{
 "cells": [
  {
   "cell_type": "code",
   "execution_count": null,
   "metadata": {},
   "outputs": [],
   "source": [
    "from datetime import datetime\n",
    "import pandas as pd"
   ]
  },
  {
   "cell_type": "code",
   "execution_count": null,
   "metadata": {},
   "outputs": [],
   "source": [
    "# csv files to clean\n",
    "copper_csv = \"data/Raw/Copper_commodity_price.csv\"\n",
    "gold_csv = \"data/Raw/Gold_commodity_price.csv\"\n",
    "iron_csv = \"data/Raw/Iron_commodity_price.csv\"\n",
    "oil_csv = \"data/Raw/Oil_commodity_price.csv\""
   ]
  },
  {
   "cell_type": "code",
   "execution_count": null,
   "metadata": {},
   "outputs": [],
   "source": [
    "#import into DataFrames\n",
    "copper_df = pd.read_csv(copper_csv)\n",
    "gold_df = pd.read_csv(gold_csv)\n",
    "iron_df = pd.read_csv(iron_csv)\n",
    "oil_df = pd.read_csv(oil_csv)"
   ]
  },
  {
   "cell_type": "code",
   "execution_count": null,
   "metadata": {},
   "outputs": [],
   "source": [
    "copper_df"
   ]
  },
  {
   "cell_type": "code",
   "execution_count": null,
   "metadata": {},
   "outputs": [],
   "source": [
    "gold_df "
   ]
  },
  {
   "cell_type": "code",
   "execution_count": null,
   "metadata": {},
   "outputs": [],
   "source": [
    "iron_df"
   ]
  },
  {
   "cell_type": "code",
   "execution_count": null,
   "metadata": {},
   "outputs": [],
   "source": [
    "oil_df"
   ]
  },
  {
   "cell_type": "code",
   "execution_count": null,
   "metadata": {},
   "outputs": [],
   "source": [
    "# Keep only the data from the 15th of each month for each commodity\n",
    "copper_df['date'] = pd.to_datetime(copper_df['date'])\n",
    "copper_df = copper_df[copper_df['date'].dt.day == 15]\n",
    "copper_df = copper_df.rename(columns={'date': 'Date', 'value_USD_pound': 'Copper_USD_per_lb'})\n",
    "copper_df = copper_df.rename(columns={'value_USD_pound': 'Copper_USD_per_lb'})\n",
    "\n",
    "gold_df['Date'] = pd.to_datetime(gold_df['Date'])\n",
    "gold_df = gold_df[gold_df['Date'].dt.day == 15]\n",
    "gold_df = gold_df.rename(columns={'value_USD_oz': 'Gold_USD_per_oz'})\n",
    "\n",
    "oil_df['Date'] = pd.to_datetime(oil_df['Date'])\n",
    "oil_df = oil_df[oil_df['Date'].dt.day == 15]\n",
    "oil_df = oil_df.rename(columns={'Brent_Spot_Price_USD_Barrel': 'Oil_USD_per_barrel'})\n",
    "\n",
    "iron_df['Date'] = pd.to_datetime(iron_df['Month'], format='%b-%y')\n",
    "iron_df['Date'] = iron_df['Date'] + pd.offsets.MonthBegin(-1) + pd.DateOffset(days=14)\n",
    "iron_df = iron_df.drop(columns=['Month'])\n",
    "iron_df = iron_df.rename(columns={'Price_$_tonne': 'Iron_USD_per_tonne'})\n",
    "iron_df = iron_df[['Date', 'Iron_USD_per_tonne']]"
   ]
  },
  {
   "cell_type": "code",
   "execution_count": null,
   "metadata": {},
   "outputs": [],
   "source": [
    "# Re-order by date:\n",
    "copper_df = copper_df.sort_values('Date')\n",
    "gold_df = gold_df.sort_values('Date')\n",
    "iron_df = iron_df.sort_values('Date')\n",
    "oil_df = oil_df.sort_values('Date')\n",
    "\n",
    "copper_df = copper_df.reset_index(drop=True)\n",
    "gold_df = gold_df.reset_index(drop=True)\n",
    "iron_df = iron_df.reset_index(drop=True)\n",
    "oil_df = oil_df.reset_index(drop=True)"
   ]
  },
  {
   "cell_type": "code",
   "execution_count": null,
   "metadata": {},
   "outputs": [],
   "source": [
    "#merge together\n",
    "merged_df = pd.merge(copper_df, gold_df, on='Date', how='outer')\n",
    "merged_df = pd.merge(merged_df, iron_df, on='Date', how='outer')\n",
    "merged_df = pd.merge(merged_df, oil_df, on='Date', how='outer')\n"
   ]
  },
  {
   "cell_type": "code",
   "execution_count": null,
   "metadata": {},
   "outputs": [],
   "source": [
    "merged_df"
   ]
  },
  {
   "cell_type": "code",
   "execution_count": null,
   "metadata": {},
   "outputs": [],
   "source": [
    "# Export into cleaned folder\n",
    "merged_df.to_csv(\"Data/Cleaned/Commodities.csv\")"
   ]
  }
 ],
 "metadata": {
  "kernelspec": {
   "display_name": "PythonData",
   "language": "python",
   "name": "python3"
  },
  "language_info": {
   "codemirror_mode": {
    "name": "ipython",
    "version": 3
   },
   "file_extension": ".py",
   "mimetype": "text/x-python",
   "name": "python",
   "nbconvert_exporter": "python",
   "pygments_lexer": "ipython3",
   "version": "3.7.7"
  },
  "orig_nbformat": 4,
  "vscode": {
   "interpreter": {
    "hash": "be61ac5c64e7a5d72ecc0d496f873d7e4314011c9b355ed11f25404feed7befb"
   }
  }
 },
 "nbformat": 4,
 "nbformat_minor": 2
}
